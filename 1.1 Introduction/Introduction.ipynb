{
 "cells": [
  {
   "cell_type": "markdown",
   "id": "f5928020",
   "metadata": {},
   "source": [
    "# Backend Development"
   ]
  },
  {
   "cell_type": "markdown",
   "id": "87718f3e",
   "metadata": {},
   "source": [
    "Two Major Components :  \n",
    " - Programming Language: Java, JS, PHP, Go, C++ etc.  \n",
    " - Database: Mongo, MySQL, Postgres, SQLite etc.  "
   ]
  },
  {
   "cell_type": "markdown",
   "id": "759ae7dc",
   "metadata": {},
   "source": [
    "We will use frameworks of programming language for ease of work and interact with Database using ORM/ODM like Prisma, Mongoose etc."
   ]
  },
  {
   "cell_type": "markdown",
   "id": "4f48ecbc",
   "metadata": {},
   "source": [
    "Database is in another continent which interacts with out Backend "
   ]
  },
  {
   "cell_type": "markdown",
   "id": "245667e5",
   "metadata": {},
   "source": [
    "Three cases :\n",
    "1. Data - We will get our input in form of lists, dictionaries or various other data structures  \n",
    "2. File - Or we will get it in pdf format files, images etc.  \n",
    "3. Third Party APIs - or in JSON format from API calls"
   ]
  },
  {
   "cell_type": "markdown",
   "id": "21e2608c",
   "metadata": {},
   "source": [
    "JS Runtime - NodeJS / Deno / Bun"
   ]
  },
  {
   "cell_type": "markdown",
   "id": "72692a06",
   "metadata": {},
   "source": [
    "File Structure :  "
   ]
  },
  {
   "cell_type": "code",
   "execution_count": 1,
   "id": "8f9c3a68",
   "metadata": {},
   "outputs": [
    {
     "data": {
      "application/javascript": "project-name/\n│── .env                   # Environment variables\n│── .gitignore             # Ignore unnecessary files\n│── package.json           # Dependencies & scripts\n│── README.md              # Project documentation\n│── .eslintrc.js           # Linter config (optional but professional)\n│── .prettierrc            # Prettier config for formatting\n│── docker-compose.yml     # (optional, if using Docker)\n│── Dockerfile             # (optional, for containerization)\n│\n├── src/                   # Main source code\n│   │── index.js           # Entry point (connects server + DB)\n│   │\n│   ├── config/            # App configurations\n│   │   ├── db.js          # DB connection setup\n│   │   └── server.js      # Express app config\n│   │\n│   ├── constants/         # App constants (enums, DB names, roles, status codes)\n│   │   ├── roles.js\n│   │   └── statusCodes.js\n│   │\n│   ├── models/            # Database models (Mongoose/Sequelize/etc.)\n│   │   ├── User.js\n│   │   └── Product.js\n│   │\n│   ├── controllers/       # Route handlers (business logic layer)\n│   │   ├── userController.js\n│   │   └── authController.js\n│   │\n│   ├── routes/            # API routes\n│   │   ├── userRoutes.js\n│   │   └── authRoutes.js\n│   │\n│   ├── middlewares/       # Middlewares (auth, validation, error handling)\n│   │   ├── authMiddleware.js\n│   │   └── errorHandler.js\n│   │\n│   ├── services/          # Reusable services (email, payment, cache)\n│   │   ├── userService.js\n│   │   └── mailService.js\n│   │\n│   ├── utils/             # Helper functions\n│   │   ├── logger.js\n│   │   └── validators.js\n│   │\n│   ├── tests/             # Unit & integration tests\n│   │   ├── user.test.js\n│   │   └── auth.test.js\n│   │\n│   └── app.js             # Main app config (Express app, middlewares, routes)\n│\n└── docs/                  # Project docs (API docs, architecture diagrams)\n    └── api.md\n",
      "text/plain": [
       "<IPython.core.display.Javascript object>"
      ]
     },
     "metadata": {},
     "output_type": "display_data"
    }
   ],
   "source": [
    "%%javascript\n",
    "project-name/\n",
    "│── .env                   # Environment variables\n",
    "│── .gitignore             # Ignore unnecessary files\n",
    "│── package.json           # Dependencies & scripts\n",
    "│── README.md              # Project documentation\n",
    "│── .eslintrc.js           # Linter config (optional but professional)\n",
    "│── .prettierrc            # Prettier config for formatting\n",
    "│── docker-compose.yml     # (optional, if using Docker)\n",
    "│── Dockerfile             # (optional, for containerization)\n",
    "│\n",
    "├── src/                   # Main source code\n",
    "│   │── index.js           # Entry point (connects server + DB)\n",
    "│   │\n",
    "│   ├── config/            # App configurations\n",
    "│   │   ├── db.js          # DB connection setup\n",
    "│   │   └── server.js      # Express app config\n",
    "│   │\n",
    "│   ├── constants/         # App constants (enums, DB names, roles, status codes)\n",
    "│   │   ├── roles.js\n",
    "│   │   └── statusCodes.js\n",
    "│   │\n",
    "│   ├── models/            # Database models (Mongoose/Sequelize/etc.)\n",
    "│   │   ├── User.js\n",
    "│   │   └── Product.js\n",
    "│   │\n",
    "│   ├── controllers/       # Route handlers (business logic layer)\n",
    "│   │   ├── userController.js\n",
    "│   │   └── authController.js\n",
    "│   │\n",
    "│   ├── routes/            # API routes\n",
    "│   │   ├── userRoutes.js\n",
    "│   │   └── authRoutes.js\n",
    "│   │\n",
    "│   ├── middlewares/       # Middlewares (auth, validation, error handling)\n",
    "│   │   ├── authMiddleware.js\n",
    "│   │   └── errorHandler.js\n",
    "│   │\n",
    "│   ├── services/          # Reusable services (email, payment, cache)\n",
    "│   │   ├── userService.js\n",
    "│   │   └── mailService.js\n",
    "│   │\n",
    "│   ├── utils/             # Helper functions\n",
    "│   │   ├── logger.js\n",
    "│   │   └── validators.js\n",
    "│   │\n",
    "│   ├── tests/             # Unit & integration tests\n",
    "│   │   ├── user.test.js\n",
    "│   │   └── auth.test.js\n",
    "│   │\n",
    "│   └── app.js             # Main app config (Express app, middlewares, routes)\n",
    "│\n",
    "└── docs/                  # Project docs (API docs, architecture diagrams)\n",
    "    └── api.md\n"
   ]
  },
  {
   "cell_type": "code",
   "execution_count": null,
   "id": "7cc8b12f",
   "metadata": {},
   "outputs": [],
   "source": []
  }
 ],
 "metadata": {
  "kernelspec": {
   "display_name": "base",
   "language": "python",
   "name": "python3"
  },
  "language_info": {
   "codemirror_mode": {
    "name": "ipython",
    "version": 3
   },
   "file_extension": ".py",
   "mimetype": "text/x-python",
   "name": "python",
   "nbconvert_exporter": "python",
   "pygments_lexer": "ipython3",
   "version": "3.13.5"
  }
 },
 "nbformat": 4,
 "nbformat_minor": 5
}
